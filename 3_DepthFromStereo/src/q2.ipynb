{
 "cells": [
  {
   "cell_type": "code",
   "execution_count": 134,
   "metadata": {},
   "outputs": [],
   "source": [
    "import cv2\n",
    "import numpy as np\n",
    "import matplotlib.pyplot as plt\n"
   ]
  },
  {
   "cell_type": "code",
   "execution_count": 135,
   "metadata": {},
   "outputs": [],
   "source": [
    "# Load the image\n",
    "name=\"banana3\"\n",
    "\n",
    "path=\"../data/section-2-grabcut/images/\"+name+\".jpg\"\n",
    "img = cv2.imread(path)\n",
    "#img = cv2.cvtColor(img, cv2.COLOR_BGR2LAB)\n",
    "filename = (path.split(\"/\")[-1]).split(\".\")[0]"
   ]
  },
  {
   "cell_type": "code",
   "execution_count": 136,
   "metadata": {},
   "outputs": [],
   "source": [
    "\n",
    "def draw_rectangle(image):\n",
    "    \n",
    "    cv2.namedWindow(\"Image\")\n",
    "    cv2.imshow(\"Image\", image)\n",
    "\n",
    "    \n",
    "    x1, y1, x2, y2 = -1, -1, -1, -1\n",
    "    drawing = False\n",
    "\n",
    "    \n",
    "    def mouse_callback(event, x, y, flags, param):\n",
    "        nonlocal x1, y1, x2, y2, drawing\n",
    "\n",
    "        if event == cv2.EVENT_LBUTTONDOWN:\n",
    "            x1, y1 = x, y\n",
    "            x2, y2 = x, y\n",
    "            drawing = True\n",
    "\n",
    "        elif event == cv2.EVENT_MOUSEMOVE:\n",
    "            if drawing:\n",
    "                x2, y2 = x, y\n",
    "\n",
    "        elif event == cv2.EVENT_LBUTTONUP:\n",
    "            x2, y2 = x, y\n",
    "            drawing = False\n",
    "\n",
    "    cv2.setMouseCallback(\"Image\", mouse_callback)\n",
    "\n",
    "    while True:\n",
    "        img = image.copy()\n",
    "\n",
    "        if x2 >= 0 and y2 >= 0:\n",
    "            cv2.rectangle(img, (x1, y1), (x2, y2), (0, 255, 0), 2)\n",
    "\n",
    "        cv2.imshow(\"Image\", img)\n",
    "\n",
    "        key = cv2.waitKey(1) & 0xFF\n",
    "        if key == ord('q'):\n",
    "            break\n",
    "        elif key == ord('c'):\n",
    "            x1, y1, x2, y2 = -1, -1, -1, -1\n",
    "\n",
    "    cv2.destroyAllWindows()\n",
    "    print(x1,y1,x2,y2)\n",
    "    return (x1, y1, x2, y2)\n"
   ]
  },
  {
   "cell_type": "code",
   "execution_count": 137,
   "metadata": {},
   "outputs": [],
   "source": [
    "def calculate_accuracy(mine, gt):\n",
    "    out_mask = np.uint8(mine != 0)\n",
    "    gt_mask = np.uint8(gt != 0)\n",
    "\n",
    "    accuracy = np.mean(out_mask == gt_mask)\n",
    "\n",
    "    intersection = np.sum(np.logical_and(out_mask, gt_mask))\n",
    "    union = np.sum(np.logical_or(out_mask, gt_mask))\n",
    "    jaccard = intersection / union\n",
    "\n",
    "    dice = 2 * intersection / (np.sum(out_mask) + np.sum(gt_mask))\n",
    "\n",
    "    print(\"Accuracy: \", accuracy, \"\\nJaccard: \", jaccard, \"\\nDice: \", dice)\n"
   ]
  },
  {
   "cell_type": "code",
   "execution_count": 138,
   "metadata": {},
   "outputs": [
    {
     "name": "stdout",
     "output_type": "stream",
     "text": [
      "41 65 594 414\n"
     ]
    }
   ],
   "source": [
    "x1, y1, x2, y2 = draw_rectangle(img)\n",
    "rect = (min(x1, x2), min(y1, y2), abs(x2-x1), abs(y2-y1))\n",
    "# rect = (68, 153, 338, 500) # memorial\n",
    "# rect=(143,27,325,452) #tennis\n",
    "# rect=(117,109,356,519) #llama\n",
    "# rect-(118,48, 353, 537) #bush\n",
    "# rect = (155, 128, 297, 517) #person6\n",
    "\n",
    "mask = np.zeros(img.shape[:2], np.uint8)\n",
    "bgdModel = np.zeros((1, 65), np.float64)\n",
    "fgdModel = np.zeros((1, 65), np.float64)\n",
    "\n",
    "cv2.grabCut(img, mask, rect, bgdModel, fgdModel, 10, cv2.GC_INIT_WITH_RECT)\n",
    "mask2 = np.where((mask == 2) | (mask == 0), 0, 255).astype('uint8')"
   ]
  },
  {
   "cell_type": "code",
   "execution_count": 139,
   "metadata": {},
   "outputs": [
    {
     "name": "stdout",
     "output_type": "stream",
     "text": [
      "Accuracy:  0.9825130208333334 \n",
      "Jaccard:  0.9294411243186446 \n",
      "Dice:  0.9634304074936351\n"
     ]
    }
   ],
   "source": [
    "outpath=\"../results/section-2-grabcut/\"+filename+\".png\"\n",
    "gtpath=\"../data/section-2-grabcut/ground_truth/\"+filename+\".bmp\"\n",
    "\n",
    "cv2.imwrite(outpath, mask2)\n",
    "calculate_accuracy(cv2.imread(outpath), cv2.imread(gtpath))\n"
   ]
  }
 ],
 "metadata": {
  "kernelspec": {
   "display_name": "Python 3",
   "language": "python",
   "name": "python3"
  },
  "language_info": {
   "codemirror_mode": {
    "name": "ipython",
    "version": 3
   },
   "file_extension": ".py",
   "mimetype": "text/x-python",
   "name": "python",
   "nbconvert_exporter": "python",
   "pygments_lexer": "ipython3",
   "version": "3.10.4"
  },
  "orig_nbformat": 4,
  "vscode": {
   "interpreter": {
    "hash": "e7370f93d1d0cde622a1f8e1c04877d8463912d04d973331ad4851f04de6915a"
   }
  }
 },
 "nbformat": 4,
 "nbformat_minor": 2
}
