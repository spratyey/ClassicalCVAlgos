{
 "cells": [
  {
   "cell_type": "code",
   "execution_count": 16,
   "metadata": {},
   "outputs": [
    {
     "name": "stdout",
     "output_type": "stream",
     "text": [
      "(288, 384)\n",
      "(288, 384)\n"
     ]
    }
   ],
   "source": [
    "import cv2\n",
    "import numpy as np\n",
    "import sys\n",
    "np.set_printoptions(threshold=sys.maxsize)\n",
    "\n",
    "imgname=\"default\"\n",
    "\n",
    "def convert_disparity_image_to_map(disp_image, step=18):\n",
    "    cropped_disp_map = -(disp_image[step:-step, step:-step] * 16 // 255)\n",
    "    return cropped_disp_map\n",
    "\n",
    "\n",
    "gt_img = cv2.imread(\"../data/section-1-disparity-map/true_disparity_L.pgm\", cv2.IMREAD_GRAYSCALE).astype(np.int32)\n",
    "occ= cv2.imread(\"../results/section-1-disparity-map/\"+imgname+\".png\")\n",
    "my_img= cv2.imread(\"../results/section-1-disparity-map/\"+imgname+\".png\", cv2.IMREAD_GRAYSCALE)\n",
    "my_img = cv2.resize(my_img, None, fx=2, fy=2, interpolation=cv2.INTER_NEAREST).astype(np.int32)\n",
    "\n",
    "print(gt_img.shape)\n",
    "print(my_img.shape)\n",
    "\n",
    "gt_map=convert_disparity_image_to_map(gt_img)\n",
    "my_map=convert_disparity_image_to_map(my_img)\n"
   ]
  },
  {
   "cell_type": "code",
   "execution_count": 17,
   "metadata": {},
   "outputs": [],
   "source": [
    "occmap=[]\n",
    "occcount=0\n",
    "for i in range(occ.shape[0]):\n",
    "\tfor j in range(occ.shape[1]):\n",
    "\t\tif occ[i][j][0]==0 and occ[i][j][1]==0 and occ[i][j][2]==255:\n",
    "\t\t\tocccount+=1\n",
    "\t\t\toccmap.append([i,j])\n",
    "\t\t\tocc"
   ]
  },
  {
   "cell_type": "code",
   "execution_count": 18,
   "metadata": {},
   "outputs": [
    {
     "name": "stdout",
     "output_type": "stream",
     "text": [
      "Occluded: 1.3079273855135924\n",
      "Total: 36.609043361916925\n",
      "Gross: 22.110472541507022\n"
     ]
    }
   ],
   "source": [
    "\n",
    "wrongish = 0\n",
    "wrong=0\n",
    "total = 0\n",
    "for i in range(gt_map.shape[0]):\n",
    "    for j in range(gt_map.shape[1]):\n",
    "        if gt_map[i][j] != my_map[i][j] and [i, j] not in occmap:\n",
    "            wrong+=1\n",
    "        if gt_map[i][j] !=my_map[i][j] and [i,j] not in occmap and gt_map[i][j]-my_map[i][j] in [-1,1]:\n",
    "            wrongish += 1\n",
    "        total += 1\n",
    "\n",
    "toterr = wrong / total\n",
    "gross=wrongish/total\n",
    "\n",
    "print(\"Occluded:\",occcount*100/total)\n",
    "print(\"Total:\",toterr*100)\n",
    "print(\"Gross:\",gross*100)"
   ]
  }
 ],
 "metadata": {
  "kernelspec": {
   "display_name": "Python 3",
   "language": "python",
   "name": "python3"
  },
  "language_info": {
   "codemirror_mode": {
    "name": "ipython",
    "version": 3
   },
   "file_extension": ".py",
   "mimetype": "text/x-python",
   "name": "python",
   "nbconvert_exporter": "python",
   "pygments_lexer": "ipython3",
   "version": "3.10.4"
  },
  "orig_nbformat": 4,
  "vscode": {
   "interpreter": {
    "hash": "e7370f93d1d0cde622a1f8e1c04877d8463912d04d973331ad4851f04de6915a"
   }
  }
 },
 "nbformat": 4,
 "nbformat_minor": 2
}
